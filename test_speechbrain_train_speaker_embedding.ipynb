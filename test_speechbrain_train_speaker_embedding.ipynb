{
 "cells": [
  {
   "cell_type": "code",
   "execution_count": 1,
   "id": "947831f7-1254-4326-b8ea-08c5c3005152",
   "metadata": {},
   "outputs": [
    {
     "data": {
      "application/vnd.jupyter.widget-view+json": {
       "model_id": "a3248d252a6b440f9b3d8ea505bd6792",
       "version_major": 2,
       "version_minor": 0
      },
      "text/plain": [
       "hyperparams.yaml:   0%|          | 0.00/2.04k [00:00<?, ?B/s]"
      ]
     },
     "metadata": {},
     "output_type": "display_data"
    },
    {
     "data": {
      "application/vnd.jupyter.widget-view+json": {
       "model_id": "93b44f87d4f345998385775539107b1f",
       "version_major": 2,
       "version_minor": 0
      },
      "text/plain": [
       "embedding_model.ckpt:   0%|          | 0.00/16.9M [00:00<?, ?B/s]"
      ]
     },
     "metadata": {},
     "output_type": "display_data"
    },
    {
     "data": {
      "application/vnd.jupyter.widget-view+json": {
       "model_id": "2b1b0fa426494212ac0bdeacb8dd829f",
       "version_major": 2,
       "version_minor": 0
      },
      "text/plain": [
       "mean_var_norm_emb.ckpt:   0%|          | 0.00/3.20k [00:00<?, ?B/s]"
      ]
     },
     "metadata": {},
     "output_type": "display_data"
    },
    {
     "data": {
      "application/vnd.jupyter.widget-view+json": {
       "model_id": "add1abe19f2e400d98c7a2822cfb7828",
       "version_major": 2,
       "version_minor": 0
      },
      "text/plain": [
       "classifier.ckpt:   0%|          | 0.00/15.9M [00:00<?, ?B/s]"
      ]
     },
     "metadata": {},
     "output_type": "display_data"
    },
    {
     "data": {
      "application/vnd.jupyter.widget-view+json": {
       "model_id": "9868168f311944409ad4deb397352bb4",
       "version_major": 2,
       "version_minor": 0
      },
      "text/plain": [
       "label_encoder.txt:   0%|          | 0.00/129k [00:00<?, ?B/s]"
      ]
     },
     "metadata": {},
     "output_type": "display_data"
    },
    {
     "ename": "RuntimeError",
     "evalue": "Failed to open the input \"tests/samples/ASR/spk1_snt1.wav\" (No such file or directory).\nException raised from get_input_format_context at /__w/audio/audio/pytorch/audio/src/libtorio/ffmpeg/stream_reader/stream_reader.cpp:42 (most recent call first):\nframe #0: c10::Error::Error(c10::SourceLocation, std::string) + 0x57 (0x7fe288281d87 in /home/ai/miniconda3/envs/ttsenv/lib/python3.10/site-packages/torch/lib/libc10.so)\nframe #1: c10::detail::torchCheckFail(char const*, char const*, unsigned int, std::string const&) + 0x64 (0x7fe28823275f in /home/ai/miniconda3/envs/ttsenv/lib/python3.10/site-packages/torch/lib/libc10.so)\nframe #2: <unknown function> + 0x42904 (0x7fe26a6ca904 in /home/ai/miniconda3/envs/ttsenv/lib/python3.10/site-packages/torio/lib/libtorio_ffmpeg4.so)\nframe #3: torio::io::StreamingMediaDecoder::StreamingMediaDecoder(std::string const&, std::optional<std::string> const&, std::optional<std::map<std::string, std::string, std::less<std::string>, std::allocator<std::pair<std::string const, std::string> > > > const&) + 0x14 (0x7fe26a6cd304 in /home/ai/miniconda3/envs/ttsenv/lib/python3.10/site-packages/torio/lib/libtorio_ffmpeg4.so)\nframe #4: <unknown function> + 0x3a58e (0x7fe174ba158e in /home/ai/miniconda3/envs/ttsenv/lib/python3.10/site-packages/torio/lib/_torio_ffmpeg4.so)\nframe #5: <unknown function> + 0x32147 (0x7fe174b99147 in /home/ai/miniconda3/envs/ttsenv/lib/python3.10/site-packages/torio/lib/_torio_ffmpeg4.so)\nframe #6: /home/ai/miniconda3/envs/ttsenv/bin/python() [0x4fc697]\nframe #7: _PyObject_MakeTpCall + 0x25b (0x4f614b in /home/ai/miniconda3/envs/ttsenv/bin/python)\nframe #8: /home/ai/miniconda3/envs/ttsenv/bin/python() [0x50830a]\nframe #9: /home/ai/miniconda3/envs/ttsenv/bin/python() [0x50607f]\nframe #10: /home/ai/miniconda3/envs/ttsenv/bin/python() [0x4f64b6]\nframe #11: <unknown function> + 0xf244 (0x7fe28ded7244 in /home/ai/miniconda3/envs/ttsenv/lib/python3.10/site-packages/torchaudio/lib/_torchaudio.so)\nframe #12: _PyObject_MakeTpCall + 0x25b (0x4f614b in /home/ai/miniconda3/envs/ttsenv/bin/python)\nframe #13: _PyEval_EvalFrameDefault + 0x53d6 (0x4f2376 in /home/ai/miniconda3/envs/ttsenv/bin/python)\nframe #14: _PyObject_FastCallDictTstate + 0xcd (0x4f561d in /home/ai/miniconda3/envs/ttsenv/bin/python)\nframe #15: /home/ai/miniconda3/envs/ttsenv/bin/python() [0x505be8]\nframe #16: _PyObject_MakeTpCall + 0x2ab (0x4f619b in /home/ai/miniconda3/envs/ttsenv/bin/python)\nframe #17: _PyEval_EvalFrameDefault + 0x53d6 (0x4f2376 in /home/ai/miniconda3/envs/ttsenv/bin/python)\nframe #18: _PyFunction_Vectorcall + 0x6f (0x4fcadf in /home/ai/miniconda3/envs/ttsenv/bin/python)\nframe #19: _PyEval_EvalFrameDefault + 0x31f (0x4ed2bf in /home/ai/miniconda3/envs/ttsenv/bin/python)\nframe #20: _PyFunction_Vectorcall + 0x6f (0x4fcadf in /home/ai/miniconda3/envs/ttsenv/bin/python)\nframe #21: _PyEval_EvalFrameDefault + 0x4b26 (0x4f1ac6 in /home/ai/miniconda3/envs/ttsenv/bin/python)\nframe #22: _PyFunction_Vectorcall + 0x6f (0x4fcadf in /home/ai/miniconda3/envs/ttsenv/bin/python)\nframe #23: _PyEval_EvalFrameDefault + 0x4b26 (0x4f1ac6 in /home/ai/miniconda3/envs/ttsenv/bin/python)\nframe #24: /home/ai/miniconda3/envs/ttsenv/bin/python() [0x591d92]\nframe #25: PyEval_EvalCode + 0x87 (0x591cd7 in /home/ai/miniconda3/envs/ttsenv/bin/python)\nframe #26: /home/ai/miniconda3/envs/ttsenv/bin/python() [0x5991cd]\nframe #27: /home/ai/miniconda3/envs/ttsenv/bin/python() [0x4fccc4]\nframe #28: _PyEval_EvalFrameDefault + 0x31f (0x4ed2bf in /home/ai/miniconda3/envs/ttsenv/bin/python)\nframe #29: /home/ai/miniconda3/envs/ttsenv/bin/python() [0x59b7d9]\nframe #30: _PyEval_EvalFrameDefault + 0x1b67 (0x4eeb07 in /home/ai/miniconda3/envs/ttsenv/bin/python)\nframe #31: /home/ai/miniconda3/envs/ttsenv/bin/python() [0x59b7d9]\nframe #32: _PyEval_EvalFrameDefault + 0x1b67 (0x4eeb07 in /home/ai/miniconda3/envs/ttsenv/bin/python)\nframe #33: /home/ai/miniconda3/envs/ttsenv/bin/python() [0x59b7d9]\nframe #34: /home/ai/miniconda3/envs/ttsenv/bin/python() [0x5af786]\nframe #35: /home/ai/miniconda3/envs/ttsenv/bin/python() [0x506eaf]\nframe #36: _PyEval_EvalFrameDefault + 0x731 (0x4ed6d1 in /home/ai/miniconda3/envs/ttsenv/bin/python)\nframe #37: _PyFunction_Vectorcall + 0x6f (0x4fcadf in /home/ai/miniconda3/envs/ttsenv/bin/python)\nframe #38: _PyEval_EvalFrameDefault + 0x31f (0x4ed2bf in /home/ai/miniconda3/envs/ttsenv/bin/python)\nframe #39: _PyFunction_Vectorcall + 0x6f (0x4fcadf in /home/ai/miniconda3/envs/ttsenv/bin/python)\nframe #40: _PyEval_EvalFrameDefault + 0x731 (0x4ed6d1 in /home/ai/miniconda3/envs/ttsenv/bin/python)\nframe #41: /home/ai/miniconda3/envs/ttsenv/bin/python() [0x507eae]\nframe #42: PyObject_Call + 0xb8 (0x508858 in /home/ai/miniconda3/envs/ttsenv/bin/python)\nframe #43: _PyEval_EvalFrameDefault + 0x2b79 (0x4efb19 in /home/ai/miniconda3/envs/ttsenv/bin/python)\nframe #44: /home/ai/miniconda3/envs/ttsenv/bin/python() [0x507eae]\nframe #45: _PyEval_EvalFrameDefault + 0x13b3 (0x4ee353 in /home/ai/miniconda3/envs/ttsenv/bin/python)\nframe #46: /home/ai/miniconda3/envs/ttsenv/bin/python() [0x59b7d9]\nframe #47: _PyEval_EvalFrameDefault + 0x1b67 (0x4eeb07 in /home/ai/miniconda3/envs/ttsenv/bin/python)\nframe #48: /home/ai/miniconda3/envs/ttsenv/bin/python() [0x59b7d9]\nframe #49: _PyEval_EvalFrameDefault + 0x1b67 (0x4eeb07 in /home/ai/miniconda3/envs/ttsenv/bin/python)\nframe #50: /home/ai/miniconda3/envs/ttsenv/bin/python() [0x59b7d9]\nframe #51: _PyEval_EvalFrameDefault + 0x1b67 (0x4eeb07 in /home/ai/miniconda3/envs/ttsenv/bin/python)\nframe #52: /home/ai/miniconda3/envs/ttsenv/bin/python() [0x59b7d9]\nframe #53: _PyEval_EvalFrameDefault + 0x1b67 (0x4eeb07 in /home/ai/miniconda3/envs/ttsenv/bin/python)\nframe #54: /home/ai/miniconda3/envs/ttsenv/bin/python() [0x59b7d9]\nframe #55: _PyEval_EvalFrameDefault + 0x1b67 (0x4eeb07 in /home/ai/miniconda3/envs/ttsenv/bin/python)\nframe #56: /home/ai/miniconda3/envs/ttsenv/bin/python() [0x59b7d9]\nframe #57: <unknown function> + 0x7d5d (0x7fe28ee4ed5d in /home/ai/miniconda3/envs/ttsenv/lib/python3.10/lib-dynload/_asyncio.cpython-310-x86_64-linux-gnu.so)\nframe #58: /home/ai/miniconda3/envs/ttsenv/bin/python() [0x4fc10b]\nframe #59: /home/ai/miniconda3/envs/ttsenv/bin/python() [0x6197d1]\nframe #60: /home/ai/miniconda3/envs/ttsenv/bin/python() [0x4b9b12]\nframe #61: /home/ai/miniconda3/envs/ttsenv/bin/python() [0x4f4abb]\nframe #62: _PyEval_EvalFrameDefault + 0x5a74 (0x4f2a14 in /home/ai/miniconda3/envs/ttsenv/bin/python)\nframe #63: _PyFunction_Vectorcall + 0x6f (0x4fcadf in /home/ai/miniconda3/envs/ttsenv/bin/python)\n",
     "output_type": "error",
     "traceback": [
      "\u001b[0;31m---------------------------------------------------------------------------\u001b[0m",
      "\u001b[0;31mRuntimeError\u001b[0m                              Traceback (most recent call last)",
      "Cell \u001b[0;32mIn[1], line 4\u001b[0m\n\u001b[1;32m      2\u001b[0m \u001b[38;5;28;01mfrom\u001b[39;00m \u001b[38;5;21;01mspeechbrain\u001b[39;00m\u001b[38;5;21;01m.\u001b[39;00m\u001b[38;5;21;01minference\u001b[39;00m\u001b[38;5;21;01m.\u001b[39;00m\u001b[38;5;21;01mspeaker\u001b[39;00m \u001b[38;5;28;01mimport\u001b[39;00m EncoderClassifier\n\u001b[1;32m      3\u001b[0m classifier \u001b[38;5;241m=\u001b[39m EncoderClassifier\u001b[38;5;241m.\u001b[39mfrom_hparams(source\u001b[38;5;241m=\u001b[39m\u001b[38;5;124m\"\u001b[39m\u001b[38;5;124mspeechbrain/spkrec-xvect-voxceleb\u001b[39m\u001b[38;5;124m\"\u001b[39m, savedir\u001b[38;5;241m=\u001b[39m\u001b[38;5;124m\"\u001b[39m\u001b[38;5;124mpretrained_models/spkrec-xvect-voxceleb\u001b[39m\u001b[38;5;124m\"\u001b[39m)\n\u001b[0;32m----> 4\u001b[0m signal, fs \u001b[38;5;241m=\u001b[39m \u001b[43mtorchaudio\u001b[49m\u001b[38;5;241;43m.\u001b[39;49m\u001b[43mload\u001b[49m\u001b[43m(\u001b[49m\u001b[38;5;124;43m'\u001b[39;49m\u001b[38;5;124;43mtests/samples/ASR/spk1_snt1.wav\u001b[39;49m\u001b[38;5;124;43m'\u001b[39;49m\u001b[43m)\u001b[49m\n\u001b[1;32m      5\u001b[0m embeddings \u001b[38;5;241m=\u001b[39m classifier\u001b[38;5;241m.\u001b[39mencode_batch(signal)\n",
      "File \u001b[0;32m~/miniconda3/envs/ttsenv/lib/python3.10/site-packages/torchaudio/_backend/utils.py:205\u001b[0m, in \u001b[0;36mget_load_func.<locals>.load\u001b[0;34m(uri, frame_offset, num_frames, normalize, channels_first, format, buffer_size, backend)\u001b[0m\n\u001b[1;32m    128\u001b[0m \u001b[38;5;250m\u001b[39m\u001b[38;5;124;03m\"\"\"Load audio data from source.\u001b[39;00m\n\u001b[1;32m    129\u001b[0m \n\u001b[1;32m    130\u001b[0m \u001b[38;5;124;03mBy default (``normalize=True``, ``channels_first=True``), this function returns Tensor with\u001b[39;00m\n\u001b[0;32m   (...)\u001b[0m\n\u001b[1;32m    202\u001b[0m \u001b[38;5;124;03m        `[channel, time]` else `[time, channel]`.\u001b[39;00m\n\u001b[1;32m    203\u001b[0m \u001b[38;5;124;03m\"\"\"\u001b[39;00m\n\u001b[1;32m    204\u001b[0m backend \u001b[38;5;241m=\u001b[39m dispatcher(uri, \u001b[38;5;28mformat\u001b[39m, backend)\n\u001b[0;32m--> 205\u001b[0m \u001b[38;5;28;01mreturn\u001b[39;00m \u001b[43mbackend\u001b[49m\u001b[38;5;241;43m.\u001b[39;49m\u001b[43mload\u001b[49m\u001b[43m(\u001b[49m\u001b[43muri\u001b[49m\u001b[43m,\u001b[49m\u001b[43m \u001b[49m\u001b[43mframe_offset\u001b[49m\u001b[43m,\u001b[49m\u001b[43m \u001b[49m\u001b[43mnum_frames\u001b[49m\u001b[43m,\u001b[49m\u001b[43m \u001b[49m\u001b[43mnormalize\u001b[49m\u001b[43m,\u001b[49m\u001b[43m \u001b[49m\u001b[43mchannels_first\u001b[49m\u001b[43m,\u001b[49m\u001b[43m \u001b[49m\u001b[38;5;28;43mformat\u001b[39;49m\u001b[43m,\u001b[49m\u001b[43m \u001b[49m\u001b[43mbuffer_size\u001b[49m\u001b[43m)\u001b[49m\n",
      "File \u001b[0;32m~/miniconda3/envs/ttsenv/lib/python3.10/site-packages/torchaudio/_backend/ffmpeg.py:297\u001b[0m, in \u001b[0;36mFFmpegBackend.load\u001b[0;34m(uri, frame_offset, num_frames, normalize, channels_first, format, buffer_size)\u001b[0m\n\u001b[1;32m    287\u001b[0m \u001b[38;5;129m@staticmethod\u001b[39m\n\u001b[1;32m    288\u001b[0m \u001b[38;5;28;01mdef\u001b[39;00m \u001b[38;5;21mload\u001b[39m(\n\u001b[1;32m    289\u001b[0m     uri: InputType,\n\u001b[0;32m   (...)\u001b[0m\n\u001b[1;32m    295\u001b[0m     buffer_size: \u001b[38;5;28mint\u001b[39m \u001b[38;5;241m=\u001b[39m \u001b[38;5;241m4096\u001b[39m,\n\u001b[1;32m    296\u001b[0m ) \u001b[38;5;241m-\u001b[39m\u001b[38;5;241m>\u001b[39m Tuple[torch\u001b[38;5;241m.\u001b[39mTensor, \u001b[38;5;28mint\u001b[39m]:\n\u001b[0;32m--> 297\u001b[0m     \u001b[38;5;28;01mreturn\u001b[39;00m \u001b[43mload_audio\u001b[49m\u001b[43m(\u001b[49m\u001b[43muri\u001b[49m\u001b[43m,\u001b[49m\u001b[43m \u001b[49m\u001b[43mframe_offset\u001b[49m\u001b[43m,\u001b[49m\u001b[43m \u001b[49m\u001b[43mnum_frames\u001b[49m\u001b[43m,\u001b[49m\u001b[43m \u001b[49m\u001b[43mnormalize\u001b[49m\u001b[43m,\u001b[49m\u001b[43m \u001b[49m\u001b[43mchannels_first\u001b[49m\u001b[43m,\u001b[49m\u001b[43m \u001b[49m\u001b[38;5;28;43mformat\u001b[39;49m\u001b[43m)\u001b[49m\n",
      "File \u001b[0;32m~/miniconda3/envs/ttsenv/lib/python3.10/site-packages/torchaudio/_backend/ffmpeg.py:88\u001b[0m, in \u001b[0;36mload_audio\u001b[0;34m(src, frame_offset, num_frames, convert, channels_first, format, buffer_size)\u001b[0m\n\u001b[1;32m     86\u001b[0m \u001b[38;5;28;01mif\u001b[39;00m \u001b[38;5;28mhasattr\u001b[39m(src, \u001b[38;5;124m\"\u001b[39m\u001b[38;5;124mread\u001b[39m\u001b[38;5;124m\"\u001b[39m) \u001b[38;5;129;01mand\u001b[39;00m \u001b[38;5;28mformat\u001b[39m \u001b[38;5;241m==\u001b[39m \u001b[38;5;124m\"\u001b[39m\u001b[38;5;124mvorbis\u001b[39m\u001b[38;5;124m\"\u001b[39m:\n\u001b[1;32m     87\u001b[0m     \u001b[38;5;28mformat\u001b[39m \u001b[38;5;241m=\u001b[39m \u001b[38;5;124m\"\u001b[39m\u001b[38;5;124mogg\u001b[39m\u001b[38;5;124m\"\u001b[39m\n\u001b[0;32m---> 88\u001b[0m s \u001b[38;5;241m=\u001b[39m \u001b[43mtorchaudio\u001b[49m\u001b[38;5;241;43m.\u001b[39;49m\u001b[43mio\u001b[49m\u001b[38;5;241;43m.\u001b[39;49m\u001b[43mStreamReader\u001b[49m\u001b[43m(\u001b[49m\u001b[43msrc\u001b[49m\u001b[43m,\u001b[49m\u001b[43m \u001b[49m\u001b[38;5;28;43mformat\u001b[39;49m\u001b[43m,\u001b[49m\u001b[43m \u001b[49m\u001b[38;5;28;43;01mNone\u001b[39;49;00m\u001b[43m,\u001b[49m\u001b[43m \u001b[49m\u001b[43mbuffer_size\u001b[49m\u001b[43m)\u001b[49m\n\u001b[1;32m     89\u001b[0m sample_rate \u001b[38;5;241m=\u001b[39m \u001b[38;5;28mint\u001b[39m(s\u001b[38;5;241m.\u001b[39mget_src_stream_info(s\u001b[38;5;241m.\u001b[39mdefault_audio_stream)\u001b[38;5;241m.\u001b[39msample_rate)\n\u001b[1;32m     90\u001b[0m \u001b[38;5;28mfilter\u001b[39m \u001b[38;5;241m=\u001b[39m _get_load_filter(frame_offset, num_frames, convert)\n",
      "File \u001b[0;32m~/miniconda3/envs/ttsenv/lib/python3.10/site-packages/torio/io/_streaming_media_decoder.py:526\u001b[0m, in \u001b[0;36mStreamingMediaDecoder.__init__\u001b[0;34m(self, src, format, option, buffer_size)\u001b[0m\n\u001b[1;32m    524\u001b[0m     \u001b[38;5;28mself\u001b[39m\u001b[38;5;241m.\u001b[39m_be \u001b[38;5;241m=\u001b[39m ffmpeg_ext\u001b[38;5;241m.\u001b[39mStreamingMediaDecoderFileObj(src, \u001b[38;5;28mformat\u001b[39m, option, buffer_size)\n\u001b[1;32m    525\u001b[0m \u001b[38;5;28;01melse\u001b[39;00m:\n\u001b[0;32m--> 526\u001b[0m     \u001b[38;5;28mself\u001b[39m\u001b[38;5;241m.\u001b[39m_be \u001b[38;5;241m=\u001b[39m \u001b[43mffmpeg_ext\u001b[49m\u001b[38;5;241;43m.\u001b[39;49m\u001b[43mStreamingMediaDecoder\u001b[49m\u001b[43m(\u001b[49m\u001b[43mos\u001b[49m\u001b[38;5;241;43m.\u001b[39;49m\u001b[43mpath\u001b[49m\u001b[38;5;241;43m.\u001b[39;49m\u001b[43mnormpath\u001b[49m\u001b[43m(\u001b[49m\u001b[43msrc\u001b[49m\u001b[43m)\u001b[49m\u001b[43m,\u001b[49m\u001b[43m \u001b[49m\u001b[38;5;28;43mformat\u001b[39;49m\u001b[43m,\u001b[49m\u001b[43m \u001b[49m\u001b[43moption\u001b[49m\u001b[43m)\u001b[49m\n\u001b[1;32m    528\u001b[0m i \u001b[38;5;241m=\u001b[39m \u001b[38;5;28mself\u001b[39m\u001b[38;5;241m.\u001b[39m_be\u001b[38;5;241m.\u001b[39mfind_best_audio_stream()\n\u001b[1;32m    529\u001b[0m \u001b[38;5;28mself\u001b[39m\u001b[38;5;241m.\u001b[39m_default_audio_stream \u001b[38;5;241m=\u001b[39m \u001b[38;5;28;01mNone\u001b[39;00m \u001b[38;5;28;01mif\u001b[39;00m i \u001b[38;5;241m<\u001b[39m \u001b[38;5;241m0\u001b[39m \u001b[38;5;28;01melse\u001b[39;00m i\n",
      "\u001b[0;31mRuntimeError\u001b[0m: Failed to open the input \"tests/samples/ASR/spk1_snt1.wav\" (No such file or directory).\nException raised from get_input_format_context at /__w/audio/audio/pytorch/audio/src/libtorio/ffmpeg/stream_reader/stream_reader.cpp:42 (most recent call first):\nframe #0: c10::Error::Error(c10::SourceLocation, std::string) + 0x57 (0x7fe288281d87 in /home/ai/miniconda3/envs/ttsenv/lib/python3.10/site-packages/torch/lib/libc10.so)\nframe #1: c10::detail::torchCheckFail(char const*, char const*, unsigned int, std::string const&) + 0x64 (0x7fe28823275f in /home/ai/miniconda3/envs/ttsenv/lib/python3.10/site-packages/torch/lib/libc10.so)\nframe #2: <unknown function> + 0x42904 (0x7fe26a6ca904 in /home/ai/miniconda3/envs/ttsenv/lib/python3.10/site-packages/torio/lib/libtorio_ffmpeg4.so)\nframe #3: torio::io::StreamingMediaDecoder::StreamingMediaDecoder(std::string const&, std::optional<std::string> const&, std::optional<std::map<std::string, std::string, std::less<std::string>, std::allocator<std::pair<std::string const, std::string> > > > const&) + 0x14 (0x7fe26a6cd304 in /home/ai/miniconda3/envs/ttsenv/lib/python3.10/site-packages/torio/lib/libtorio_ffmpeg4.so)\nframe #4: <unknown function> + 0x3a58e (0x7fe174ba158e in /home/ai/miniconda3/envs/ttsenv/lib/python3.10/site-packages/torio/lib/_torio_ffmpeg4.so)\nframe #5: <unknown function> + 0x32147 (0x7fe174b99147 in /home/ai/miniconda3/envs/ttsenv/lib/python3.10/site-packages/torio/lib/_torio_ffmpeg4.so)\nframe #6: /home/ai/miniconda3/envs/ttsenv/bin/python() [0x4fc697]\nframe #7: _PyObject_MakeTpCall + 0x25b (0x4f614b in /home/ai/miniconda3/envs/ttsenv/bin/python)\nframe #8: /home/ai/miniconda3/envs/ttsenv/bin/python() [0x50830a]\nframe #9: /home/ai/miniconda3/envs/ttsenv/bin/python() [0x50607f]\nframe #10: /home/ai/miniconda3/envs/ttsenv/bin/python() [0x4f64b6]\nframe #11: <unknown function> + 0xf244 (0x7fe28ded7244 in /home/ai/miniconda3/envs/ttsenv/lib/python3.10/site-packages/torchaudio/lib/_torchaudio.so)\nframe #12: _PyObject_MakeTpCall + 0x25b (0x4f614b in /home/ai/miniconda3/envs/ttsenv/bin/python)\nframe #13: _PyEval_EvalFrameDefault + 0x53d6 (0x4f2376 in /home/ai/miniconda3/envs/ttsenv/bin/python)\nframe #14: _PyObject_FastCallDictTstate + 0xcd (0x4f561d in /home/ai/miniconda3/envs/ttsenv/bin/python)\nframe #15: /home/ai/miniconda3/envs/ttsenv/bin/python() [0x505be8]\nframe #16: _PyObject_MakeTpCall + 0x2ab (0x4f619b in /home/ai/miniconda3/envs/ttsenv/bin/python)\nframe #17: _PyEval_EvalFrameDefault + 0x53d6 (0x4f2376 in /home/ai/miniconda3/envs/ttsenv/bin/python)\nframe #18: _PyFunction_Vectorcall + 0x6f (0x4fcadf in /home/ai/miniconda3/envs/ttsenv/bin/python)\nframe #19: _PyEval_EvalFrameDefault + 0x31f (0x4ed2bf in /home/ai/miniconda3/envs/ttsenv/bin/python)\nframe #20: _PyFunction_Vectorcall + 0x6f (0x4fcadf in /home/ai/miniconda3/envs/ttsenv/bin/python)\nframe #21: _PyEval_EvalFrameDefault + 0x4b26 (0x4f1ac6 in /home/ai/miniconda3/envs/ttsenv/bin/python)\nframe #22: _PyFunction_Vectorcall + 0x6f (0x4fcadf in /home/ai/miniconda3/envs/ttsenv/bin/python)\nframe #23: _PyEval_EvalFrameDefault + 0x4b26 (0x4f1ac6 in /home/ai/miniconda3/envs/ttsenv/bin/python)\nframe #24: /home/ai/miniconda3/envs/ttsenv/bin/python() [0x591d92]\nframe #25: PyEval_EvalCode + 0x87 (0x591cd7 in /home/ai/miniconda3/envs/ttsenv/bin/python)\nframe #26: /home/ai/miniconda3/envs/ttsenv/bin/python() [0x5991cd]\nframe #27: /home/ai/miniconda3/envs/ttsenv/bin/python() [0x4fccc4]\nframe #28: _PyEval_EvalFrameDefault + 0x31f (0x4ed2bf in /home/ai/miniconda3/envs/ttsenv/bin/python)\nframe #29: /home/ai/miniconda3/envs/ttsenv/bin/python() [0x59b7d9]\nframe #30: _PyEval_EvalFrameDefault + 0x1b67 (0x4eeb07 in /home/ai/miniconda3/envs/ttsenv/bin/python)\nframe #31: /home/ai/miniconda3/envs/ttsenv/bin/python() [0x59b7d9]\nframe #32: _PyEval_EvalFrameDefault + 0x1b67 (0x4eeb07 in /home/ai/miniconda3/envs/ttsenv/bin/python)\nframe #33: /home/ai/miniconda3/envs/ttsenv/bin/python() [0x59b7d9]\nframe #34: /home/ai/miniconda3/envs/ttsenv/bin/python() [0x5af786]\nframe #35: /home/ai/miniconda3/envs/ttsenv/bin/python() [0x506eaf]\nframe #36: _PyEval_EvalFrameDefault + 0x731 (0x4ed6d1 in /home/ai/miniconda3/envs/ttsenv/bin/python)\nframe #37: _PyFunction_Vectorcall + 0x6f (0x4fcadf in /home/ai/miniconda3/envs/ttsenv/bin/python)\nframe #38: _PyEval_EvalFrameDefault + 0x31f (0x4ed2bf in /home/ai/miniconda3/envs/ttsenv/bin/python)\nframe #39: _PyFunction_Vectorcall + 0x6f (0x4fcadf in /home/ai/miniconda3/envs/ttsenv/bin/python)\nframe #40: _PyEval_EvalFrameDefault + 0x731 (0x4ed6d1 in /home/ai/miniconda3/envs/ttsenv/bin/python)\nframe #41: /home/ai/miniconda3/envs/ttsenv/bin/python() [0x507eae]\nframe #42: PyObject_Call + 0xb8 (0x508858 in /home/ai/miniconda3/envs/ttsenv/bin/python)\nframe #43: _PyEval_EvalFrameDefault + 0x2b79 (0x4efb19 in /home/ai/miniconda3/envs/ttsenv/bin/python)\nframe #44: /home/ai/miniconda3/envs/ttsenv/bin/python() [0x507eae]\nframe #45: _PyEval_EvalFrameDefault + 0x13b3 (0x4ee353 in /home/ai/miniconda3/envs/ttsenv/bin/python)\nframe #46: /home/ai/miniconda3/envs/ttsenv/bin/python() [0x59b7d9]\nframe #47: _PyEval_EvalFrameDefault + 0x1b67 (0x4eeb07 in /home/ai/miniconda3/envs/ttsenv/bin/python)\nframe #48: /home/ai/miniconda3/envs/ttsenv/bin/python() [0x59b7d9]\nframe #49: _PyEval_EvalFrameDefault + 0x1b67 (0x4eeb07 in /home/ai/miniconda3/envs/ttsenv/bin/python)\nframe #50: /home/ai/miniconda3/envs/ttsenv/bin/python() [0x59b7d9]\nframe #51: _PyEval_EvalFrameDefault + 0x1b67 (0x4eeb07 in /home/ai/miniconda3/envs/ttsenv/bin/python)\nframe #52: /home/ai/miniconda3/envs/ttsenv/bin/python() [0x59b7d9]\nframe #53: _PyEval_EvalFrameDefault + 0x1b67 (0x4eeb07 in /home/ai/miniconda3/envs/ttsenv/bin/python)\nframe #54: /home/ai/miniconda3/envs/ttsenv/bin/python() [0x59b7d9]\nframe #55: _PyEval_EvalFrameDefault + 0x1b67 (0x4eeb07 in /home/ai/miniconda3/envs/ttsenv/bin/python)\nframe #56: /home/ai/miniconda3/envs/ttsenv/bin/python() [0x59b7d9]\nframe #57: <unknown function> + 0x7d5d (0x7fe28ee4ed5d in /home/ai/miniconda3/envs/ttsenv/lib/python3.10/lib-dynload/_asyncio.cpython-310-x86_64-linux-gnu.so)\nframe #58: /home/ai/miniconda3/envs/ttsenv/bin/python() [0x4fc10b]\nframe #59: /home/ai/miniconda3/envs/ttsenv/bin/python() [0x6197d1]\nframe #60: /home/ai/miniconda3/envs/ttsenv/bin/python() [0x4b9b12]\nframe #61: /home/ai/miniconda3/envs/ttsenv/bin/python() [0x4f4abb]\nframe #62: _PyEval_EvalFrameDefault + 0x5a74 (0x4f2a14 in /home/ai/miniconda3/envs/ttsenv/bin/python)\nframe #63: _PyFunction_Vectorcall + 0x6f (0x4fcadf in /home/ai/miniconda3/envs/ttsenv/bin/python)\n"
     ]
    }
   ],
   "source": [
    "import torchaudio\n",
    "from speechbrain.inference.speaker import EncoderClassifier\n",
    "classifier = EncoderClassifier.from_hparams(source=\"speechbrain/spkrec-xvect-voxceleb\", savedir=\"pretrained_models/spkrec-xvect-voxceleb\")\n",
    "signal, fs = torchaudio.load('tests/samples/ASR/spk1_snt1.wav')\n",
    "embeddings = classifier.encode_batch(signal)"
   ]
  },
  {
   "cell_type": "code",
   "execution_count": null,
   "id": "4bde61d5-fb86-40d5-b861-2ac9902e2ba1",
   "metadata": {},
   "outputs": [],
   "source": []
  }
 ],
 "metadata": {
  "kernelspec": {
   "display_name": "Python 3 (ipykernel)",
   "language": "python",
   "name": "python3"
  },
  "language_info": {
   "codemirror_mode": {
    "name": "ipython",
    "version": 3
   },
   "file_extension": ".py",
   "mimetype": "text/x-python",
   "name": "python",
   "nbconvert_exporter": "python",
   "pygments_lexer": "ipython3",
   "version": "3.10.13"
  }
 },
 "nbformat": 4,
 "nbformat_minor": 5
}

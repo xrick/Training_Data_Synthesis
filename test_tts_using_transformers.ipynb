{
 "cells": [
  {
   "cell_type": "code",
   "execution_count": 20,
   "id": "22dd18c0-a3e5-46f1-920d-fd4d3c9033c6",
   "metadata": {},
   "outputs": [],
   "source": [
    "from transformers import SpeechT5Processor, SpeechT5ForTextToSpeech\n",
    "from transformers import SpeechT5HifiGan"
   ]
  },
  {
   "cell_type": "code",
   "execution_count": 12,
   "id": "12269394-9a36-437a-af52-e15cec255b27",
   "metadata": {},
   "outputs": [],
   "source": [
    "# from datasets import load_dataset\n",
    "import numpy as np\n",
    "import torch"
   ]
  },
  {
   "cell_type": "code",
   "execution_count": 13,
   "id": "ea3eb84a-356d-4b20-ac16-d9cff104e935",
   "metadata": {},
   "outputs": [],
   "source": [
    "processor = SpeechT5Processor.from_pretrained(\"microsoft/speecht5_tts\")\n",
    "model = SpeechT5ForTextToSpeech.from_pretrained(\"microsoft/speecht5_tts\")"
   ]
  },
  {
   "cell_type": "code",
   "execution_count": 24,
   "id": "b64ac097-34f2-4383-8c97-720fa53732f4",
   "metadata": {},
   "outputs": [],
   "source": [
    "inputs = processor(text=\"help\", return_tensors=\"pt\")"
   ]
  },
  {
   "cell_type": "code",
   "execution_count": 25,
   "id": "16c2e24a-1957-4b13-8c2b-d8a734d5dff7",
   "metadata": {},
   "outputs": [
    {
     "name": "stdout",
     "output_type": "stream",
     "text": [
      "{'input_ids': tensor([[ 4, 11,  5, 15, 24,  2]]), 'attention_mask': tensor([[1, 1, 1, 1, 1, 1]])}\n"
     ]
    }
   ],
   "source": [
    "print(inputs)"
   ]
  },
  {
   "cell_type": "code",
   "execution_count": 26,
   "id": "eaee5bd0-cf09-43d0-b48c-c6b9259511a3",
   "metadata": {},
   "outputs": [],
   "source": [
    "# embeddings_dataset = load_dataset(\"./speaker_embeddings/cmu/spkrec-xvect/\")"
   ]
  },
  {
   "cell_type": "code",
   "execution_count": 32,
   "id": "56c03424-e0f6-466a-819a-80dd62f8426c",
   "metadata": {},
   "outputs": [
    {
     "name": "stdout",
     "output_type": "stream",
     "text": [
      "len of test speaker embedding:1\n"
     ]
    }
   ],
   "source": [
    "test_speaker_embedding = np.load(\"./speaker_embeddings/cmu/spkrec-xvect/cmu_us_awb_arctic-wav-arctic_a0004.npy\");\n",
    "test_speaker_embedding = torch.tensor(test_speaker_embedding).unsqueeze(0)\n",
    "print(f\"len of test speaker embedding:{len(test_speaker_embedding)}\")"
   ]
  },
  {
   "cell_type": "code",
   "execution_count": 33,
   "id": "39a69c1a-07f2-4dbc-89b5-a6ef33a742a0",
   "metadata": {},
   "outputs": [],
   "source": [
    "spectrogram = model.generate_speech(inputs[\"input_ids\"], test_speaker_embedding)"
   ]
  },
  {
   "cell_type": "code",
   "execution_count": 34,
   "id": "0e7c8ab0-b1ee-43ff-8089-a05c5e6c66ef",
   "metadata": {},
   "outputs": [],
   "source": [
    "vocoder = SpeechT5HifiGan.from_pretrained(\"microsoft/speecht5_hifigan\")"
   ]
  },
  {
   "cell_type": "code",
   "execution_count": 35,
   "id": "beeaa87e-6e98-4d30-b7bb-5010ccecd1f4",
   "metadata": {},
   "outputs": [],
   "source": [
    "speech = model.generate_speech(inputs[\"input_ids\"], test_speaker_embedding, vocoder=vocoder)"
   ]
  },
  {
   "cell_type": "code",
   "execution_count": 36,
   "id": "67c030a0-1a07-4192-8ef1-f38e3b6a1d57",
   "metadata": {},
   "outputs": [
    {
     "data": {
      "text/html": [
       "\n",
       "                <audio  controls=\"controls\" >\n",
       "                    <source src=\"data:audio/wav;base64,UklGRiQ4AABXQVZFZm10IBAAAAABAAEAgD4AAAB9AAACABAAZGF0YQA4AABKAHMAWgCHAGkAlQCAAJwAhACjAK8AngCJAIgAhgCGALkAwgDFANoAuAC/AK4AvgCvAK0ApwCPAKYAlgCWALEApwCOAKYAvwCyALQAlwDGANIAvQDdAO4A9wDhAMUAtQCsAKkAvQDOAMEAsACmAKEAuADEALYA2QAIAfsA2wDYAO8A5wDyAAMBBQEGAf4AFAEDARIBCwH8APMA2wDxAPAA0QDDAJEAYwBUAF0AiQBlAFwAXwBdAGkAbQBVAF0AdABuAGcAdQCFAH0AkwCCAIAAYQBCACMA+f8CAAUA2//O/97/2P/k/9j/0P/Y/9j/yP+2/7X/xv/O/+n/uP+p/63/q//B/7H/wP+5/8L/rP+a/4T/Zv9y/5H/lv+T/8z/y//d//L/z//D/6P/ff99/3D/kf+a/5f/vv+t/37/ZP9K/1v/XP9Q/3X/mP94/2b/c/9p/6D/pv+m/4//Uv9Z/2f/dv9U/2D/df9m/1b/W/9w/1v/Uv9j/4n/rv+o/6T/fP+a/6L/lf+k/3//Yv8z/zn/Pf8f/0//ff99/4T/hv92/4b/lv+W/4z/a/9K/0b/U/9A/0//P/8//17/b/+b/43/k/+b/57/f/9q/3b/af9d/1X/b/+L/3n/bv98/47/t/+S/5f/kv+L/6T/kv+r/6v/gP+B/3//m/+5/6L/qf+o/73/o/+d/6f/o/+e/5v/q/+x/83/z//p/+z/9P///+X/AQD//wMAAgAnADgAMQBDAD4AaQCHAIcAcwB8AJYApQCNAJAAagBCAGoAXwBeAEkAOgAPAOL/5//X/wcAEgDq/83/w//S/8D/xP++/9H/AAACAOn/1f/O/6T/tv+s/3v/lf+//6H/cf+R/4b/n/+K/5r/uf+d/5n/qP+9/8z/0f/b/xAAZQCrANUAFwEGAR4BUAFLAU4BLwE2ATcBQgE6AfkA4wDJAKcAewBLAGwAnQC1AMIAvwCEAH0AkgCXALoAtQCvAJIAbABxAGcATAA1ADoAHABPAHQAmQDMAMYA3wDAAKoAowCbAJYAdACPAJUAiABjAD4AZQB/AGcAHgD4//n/9P/P/9T///8tACkADQAFALL/pf/B/9b/9/8NABoABAAJAAYA8f/i/8z/yf/y/wUABwD7//3/BgANADsARgAsAAAAEAAKAAkANgBBAEoAGwD//yUAKABVADsAHQBGAE0AggCLAHkAgABoAHUAfAB9AE8ALABQADsAFQAVACYAOABYAEgAQABSADIAKgAwADIAQABQADkAXgCAAHkAbABCAFMAHQDy/+v/+P/1/+r/EQD4/+z/yf/R/9D/x//v//P/8f/k//r/6P/T/+//HgBiAHMAYgAsACEANQD7/wMALwBFAE4APAAJAM//wf+x/5z/WP8t/zD/Qf9K/yv/Wv9w/3j/jv+G/33/QP8u/zn/J/8r/yj/Bf/R/pP+kP6g/rP+/f4r/0j/Rf9G/0n/Tv9Z/33/rP+C/1T/Pf9Z/2X/Rv9j/2T/Yf+c/8r/7f/r/87/tP+v/+7/OwA7APH/0//F/67/rP/O/9n//f8LAAsAUgAxAA0ACQDW/+D/CgAhADgAGgALACQASABpAEsAVACRAKEAxgDJALoAyACdAHcAbgCVAJwAjAB1AGYASQAoAEwAfACcAHMANwAaAOn/9P84AKUAtAC7ALwAmgCXAEsAJgD///z/DAA8AF8AOgBQAHsAjACUAMAAvgDIAAkBJQEoARAB4gDKANMAxgCiAKYA1QAHAesAwQCNAHUASQBFAJMAhACQAHsAOwBJAHkAmgCQAJ0AmACWAKQAiQCFAIEAcABeAFoAoQCxAIwAfQCbANYAugDLAMUAtgD/ACYBVwHqAGYAXQB0AMwAGwEuAQ0B0QC9AMkAogDpAD8BjgHHAXYBKwHIANgAzABkAHAAxQAkATMB3ACfALcAtQClAJ4AewB9ALEAtwCwAIcAKgDk/5n/iP9n/0L/Ev/6/vP+0P7U/tf+8v4p/3j/zP8IAD4AbABjAF8AnwC5AMAA2AAtAasBngEyAa4AnwASAecAkwC6ANkApwCmAMoAuQBxAAoA0v+m/7D/pv/B/wgA8v8nACIA4f+b/0H/Qf82/xL/Gv8p/23/Vv8d/+/+tf7V/ub+4f76/vv+4/5N/uj9Mf7i/vb+9f76/un+5P7G/tb+yv6t/k7+LP6X/mb/FAAGAIH/iP75/Vf+Gv/I/wgAeP8b/+P+H/44/ef8Iv2t/Zz+5P4C/7T+I/4K/tb9Hv65/iL/a/+T/6z/yf+Q/y//0/6O/tH+Jf9s/2z/Cf8R/xv/E/9Y/6L/l/+C/yH/Av8T/xz/l/8MAD0A5P+Q/+T/7v9EAJoA/QAIAcwAogBUADsArf9S/3n/4v8AAMP/pf+O/9v/hAAUAQsBqgBgAAoAIAA+ABYAFQAXANH/X/8V/3r+lf4v/8//LgADALH/pv/P/9z/LwDP/3b/nP/8/1AAFQD2/5P/Rv8O/wr/bP+R/wcAYQAhAN7/lf8KAG8AZAAbAPz/mQBwAB8AVABlAHwABgC//4f/R/+U/4X/Nf8e/07/nf/7/2UAzQByAGQAnwBEAHQAkADUAFcArP+2/3b/Vf9Z/zf/Zv+N/2j/n/+5/6D/j/89/4//CgAwAC0AAwCM/3v/Nf+X/+r/hf/b/qT+Uv+k/9n/bv8z/2//AQD5ABgAD/+8/uf+Fv/D/sP+0v7M/t3+EP9p/0v/nP7B/Xn+2f/FAFkBGwE9AEX/Lf9//wAABwBY/+z+zf5Q/7f/7/8vALcANAGPACEAFgDG/73/gf/J/3UAswC7ADwAAADQ/5H/agCEALgAdAFqATkBuAD0/z4AcgBMAFgAaQCzAFUAn/93/+//JgA/AMgAcQHQATIBwgD+/4f/KP8L/1L/lP8zAEgADv+w/fj8L/30/aD+g/8jAPv/m//5AAYG7wt+DeoKmgYHBJ8DegMaBBUEuwPiAhMBPwAy//b9Dv3W/Oz+zgGyAyQEWANeArIBvwGEAhUDFgOXAgYCqgGzAAYATP+4/nf+rv4l/3n/2f4I/qH93v1//uX+W/8r/8X+df5n/s7+Rf8y/zD/Rf9T/1X/9P6L/nT+b/67/Ur97v3U/nj/A/9V/hf+af7T/lT/wP/s/2cAxP+y/4n/0/6U/+j//v/d/w8A3f85/3z+EP7O/uL+Mv+X/+//dQDw/6z/iP+Z/wgAfQCPAdsBKQFJAG//Wf/E/7//eP/0/vP+RP/W/s/+pf4q/x4BQwSNBlgFQgOWAbgApgAeAeECZwNuApsAUv7N/bD+nQAEArgB4wCdAKEBkAKrAlUCtAHCAhEELgTPA3MB2f+B/pz+eQCJAWYCvwExAgYC3wAkADX/Xv+wAPADeATTAUUAWQCk/9v91vxQ/eL+P/96/0IAFwG4AZAAOgD1AMsAMAH5AQMChQE7ALL+1/3P/aP+Wf8C/63+1f3X/b39vP2H/kn+8f2f/ZH9Wf4J/zn/IP6u/cL+if+6/+r+P/3j/CX9F/7L/hv+8/3+/UD+zv7b/rT9gv2k/jb/KwHGAK//DQCH/jYAygR7DLMRMA88CygJ/wcHBvoAxvre92L3p/rs/0MC3QAj+yr2OvP/8+34fwATCL0M8Q6SDvoJ/APp/tL8Vv6TAhYICgogB1sCzP3N+y37w/vJ/RMAuwK5BGMFrQPv/z/9lvym/skBSAOKA1wClAEXAaIAGwE6AusCcgLsAfQBzgFDAOD+hf52/28AWQCNAJoAk/86/RL7ofpP/dH/MgBP/6j9v/0x/gP+0P3o/O/7n/oO+6X9hgCpAaQAqf6//bT9P/73//4ArwG1/w79Zv0p/QH9p/xy/J38vvxt/nj+Av5R/Db7MPsF+yv9FP8ZAYkBcgCd/yP+DP8nAFcAcwDI/+IAFwJjAWX/cf3N/f/9Of0v/Or67fu//T7/zABEAsQD1wQ3BOQDxgMsAwICTP+J/uf+s/8ZAIv/if8TAJEAEv/L/OT7RP3B/zcAjwGRA08F2QUnBFkDuQIHAbEApgBHAHIApv8D/5/+r/9JAVYDtwJQARMC1AJ0BIsDhQFlA2YEewMqAnkBfQIvASr+Mfx2/In+uvzn+AL4Hvos/On7aPrs+jn8ef3N/Dj7Gvq4+Az4Ffie+fX65/tG+9X4Tfg494v2afXZ8xD1z/Zl+IX4y/aY9ALzGPOY9cT4bfn5+Gn2M/YN93v3QfmE+sH6Cfto+rX5svr9+1n9fP+rAIwCzQO4A0ADVQKmAtYE2whUDN8Nuw6gDq0Obw8rEPYQ5RKaEwoVwhUHFgEXtRZjFqsWXxUDFUMUhBNiEroQew9dDikNugxBDJsMhwwyDBYMfAuSC3ALfQrQCawIzghGCBsHMQZNBZUFFgbIBSsFMwRaAxgDWALkAZoBOQE2AXwA2f+e/k38Qfpj92j1KfRu833ym/Jn8tbxU/E68DLvCu4L7X/ttO3W7cXsiemK5s3ind/93NbacNg91LjOXMVXtsui7JAinDzPeAwAL6ovdiWkJaYnVibnKbkwPDmsOUA3hDYjLfYWRvXE2kvShte35X7xHvjI+U73kfSr9PP5wgL4DH0XAiOJLvAycy13ISgUMgz4CUgL1w0wDcoIKAK5+hP19vC/703x1/bE/wQJ2w/YERsQ2AynClcNrRIhFxoavRocGZoVNhDQCpMGugRKBYQHrQp0DXENQQqABwwGdQYoCUsMRg+2EJQQVw76CskGTgJQ/z/+Fv89AdgCPwN7Acn+3PvC+UX5//kZ/JT91vyh+r33AvNW7Xvpqece6cHrL+/O8STxyu1h6DPlZeQv5UDoaOsR7Q3tDOqC5pPiHeAW4MLgOeKh4nDiI+TJ4jbfh9xB1KXNXclKwQi0Kag6uCLkahOSKjEnSB+BF9sStg5DDLEPCBL5EssVkhe/Ef///eZM0ojKONG54qL13QNJC5IM7ApGCVMKyg23ET4X6R+MKH4suSebG40NHADf96728PlY/r8A6v+t/tn8+vpT+gL8KgD/ByoRphltHX0bWxaNEUAOEA4GEC8SDxMYEesNOgqHBSMBvv0H/TX/MgT/CKgMWg6+DgQPtg7tDu8P7BB5EVwREhH2D+YNCAuVCOMGrwcVCnEMVA0RDB4JKwWjAsIB+AFuAxcEmAOwAs8Au/4g/QP80Ptz/Av+u/9NAGD/P/xx+HH1+/Kw8kf07/Qf9h/32fbF9X/z6fA572DuMe4D773vaO+o7I/ngOO+3+7bNtqn1+bVrNPd0aHQYc7ZySTAx7LOoKiGAYALpwr1wT44U+FClzo3Ps9B/jPGI2AixydQK0cw6DeCMwAUouKLvQi137+tztnaeelG+cEEUwkXC3MMswtACqkP/iCUOJ5HJEhsPK4rQRqJCoT9XPYo82nx9fE99X35QflV9Njvue4L8xz78QYcE24bVB+VIR0kjiR3IFAZ+BKMD2sOjg4uDYgJbwIX+zf3+PcA+23+PQHHAzoHWAvnDpgQtA/WDf8Mmw7CEZYU3xWaFQkTDBDXDIUJ2QaeBKYCZAKzA6MEdAQOAgj+nflC9vv1nfb390n5iPlg+t36O/rs+K71RfIG8Lrw4vOr9ob3W/YC9K/xSe9C7LrpgecE5qvmSegB6rTqZunY5unkOONf4iDiyOFd4JDd3trh1onS2M1ex73AhrQsnZ2XRLt5+pYwGDswL+4wWzrtOEMjCw4UCp0OHhJZFhEeUiBkDzPvUtLTxw3NS9ab39TqnPtfDpMcVCRTJeMg+hlzFD0XiSEFLKUvTSvyIqQYagwz/wLycOjW4nnjUOkb8m750P3L/1wBZwPXBskLzBD/FKEZ8h+mJqwqASrPJIkdsRXqDjsJrAVcA+QB5QFhAtED/gSkBKsEAAVsBw8LPw/qEykXLhisF1IX2hZlFncVHhVUFUsVnBU3FNsSMxAVDV8L8AmHCXMI5QbgBIkBFQBw/Yn75/pF+h/7lPwl/nT/+f9K/7j9sPsq+r34f/Yx9Nbxc/Ah8P/uFO4P7mruf/CO8p7ynvKK8i3yRPGQ8HvwDPD17m3s+ejJ5krl9eKE4KjeOt6p36/hh+GK3w7dS9XfyGK0opmRlCmxuORRDxQe2iI9MUhCUkSpN4QmXh31G0cbPSLqK7AtiyAJB1XvhOFm2jLT8M2w0DLdKe/s/twLlxS0FqQUqBLSFRMd2yInJpcmyie8KCklxByAD84Ap/TK61DoQujJ66/wo/Yp/XsDKAi/CmQLOgs3DeAS/Bq2IlInryiWJ5Qkkx5gF3YOOwR5/On3Ofiw/FUBNwSSBQcGdgZ9B5IIawlACrYMGxBCFTcaNh2VHT8b/RbHEpUOvQo3B10E8ALxAs8DIgQFAnz+0vpI97L0p/QQ9cX1+fcc+gb9d/8B/5L8+vgh9YjyofEo8gH0O/W69ZH2r/Yo9h30ZPAq7eTqtOlk6lPqzOn76Fjnb+aA5e/jVuFf333d3Ntd2iLXfdJVzsLKdsVtvtOtAqACrBDUXQjxKOk0rD3ISqhS1kcwNQcjnBOrBsr9mgPYD4oTowv//CLxKOp74oXb/te12kzlbfUFCbIchCsPMnUwuCv5J9QlOCEWGzgWcRQPFSgVwRJ8DaQEpvoS8XfqweaW5pzp0O+l+BcD0A2EFvYa8BrpGdsZaxo/G1kb9BsgHZscGRt5GBETkgzFBI79j/ms+Ij6Q/3WAdUGRAv7D70SzBOEE/4R1RCXEJQRnBNSFeUWlxcqF4EWqhS0EZ8NSgmkBaACqQGSAAcAcf9I/jP+2/0p/T38cfpY+UX5IvqU+178VPyo+4D5Mffk8/Hu2uqx5vDjk+Mv4wDkcOXL5pboxukW69/sj+/Z8Sjyx/I880PzifLF7gjqiuWB4oTgMd6q2xPaeNoQ2CjVmdJyzKbAyat+oH6ug80u8i0JshSeKAdBwlRkV4FGijNXIq8THAiwAqoGrwf7AMv3wPRn+LX0SuaI1vfQoNUY3uHoBPhrCm0aFiRBLOMywTQULlYgdBMCDhQMgQr7Bh8FPgUfBXwCJP6k+bvzVu0V6hPs6fJG+7oCqAqAEw4bgyDVIhgiQh/cGqgW3hOwEeYPXw2aCqkIhgbCAyIBt/0x+tb4rvk7/ZcB3gUyCnMOpxJOFWEXuhfPFuUVERQjEzsSnhE9EWEPrQ2KC+EInAbAAwQAMP0i++z54/n6+cP66vtQ/QcA7wGUAh8DQQIrAQIAlP3o+hP4JvUU81nxjPCP7yLuBu3N69rq9+lI6MflzuLm4FHg5eAg4R7hxuHN4r7j1eVQ5tnlHeXX4jTij+CU3YTZk9OVyiW+9q9fotylv70U2YXvwfy1D+ksnkOvSXtD9DkGL3YiDRWxDVwMhgnQBbAChwNKBv8COfk17ODgyNuJ2kPdCuR/7QL6cwh1F90lNC+HMYAtjiacH98YJhIWCyMFLgJBAiAEfQXZBI0By/1f+Yv1WfM+8pjyaPWM+lgCNAyvFUgcViBCIs0irCFQHrMZWRRsD6gLHAnWCBEJuwgTCL4GwgU2BWEDBQGt/4n+HP8OAsYFPwpTDgwSSxU2F9cX3BbuFPMRQQ69ClsIOQdQBt8FVwXjBO4EhAR0A80Bsv5c+0L5vPd09yT4JvnK+r/7gvyh/Yn9TvwG+Wz1qPKs8Pvv8O/276XwkfHq8uHz1/OE8v3vyezl6Ybo3+dU54vmguW35UzmbOd86Dno7efi5w3og+eu5fDik95U2LTOj8K2uNW1XcOD1wPkq+7L/NwVIjBDO/Q84TkGNsMu+yIOGukSGwwkBKX+wwDNBa8ImgbmAC/8Zvgv9QnyNe617BHujfOT/YQJphVSH/gltipYLUYtMylXIpAZPxEfC54HAQbtBAEEAgQPBd0GjwdbBmED6v/q/KH7mfyQ/mUB3gW/CsIQ8xbzGzUfECCqHlockBn7FVcSNg7QCk4JxwgTCm8LdAwIDWYMHgtuCVcHKwVaA0cCxwK/BD8IAQw9Dw8SyROZFFwU1hITEBkN7Qm4BqwE8AJ+AZgAmP85/y//wf4k/j/9Cvxl+lf4nvY99UX0i/OE8pXxYfE48dbwDPHB8L/wJPFB8brxpvKt8gjy6O9a7b7rWuoe6GLl++LK4YXi3+P+5L3lCOYS5trlKOSd4DnbDtXJzMTCvrcYs2y7mc3e3kbpbPiLEE0s70DTRrFI30gVQ0U6Ei4QJKEapw35Ah3/MgHaBI4EYQEV/2D+Of38+aX02O5666vqHe6k9eT+FwnlEhkc2CWkLf8xqzHYLIQl7h1sFhIP9gfaAOv7j/oy+3790f8YAdsBHwLjAewBQgEOAFj/1v9lAn8GjQuDEc8W5RrjHecfTSD3HkYbTRZYEckMSgljBi8E4QKtApUDHgUcB+gINwrxCgELpgpxCkEKhgmcCIsIsAj0CZELjAxYDWcNvgyeC8cJ1wfPBHMBwf6z/L379voN+kP61Poa+5r6tvlE+Wb4qfYc9GPxZ+/a7U/sH+u36j3rrexl7p7vHPGG8fzwG/Co7i/tYevS6N7lcOPw4Snh6OCj4BTg3N/x3w3gX9+33KHYfNM/zeLGeb9XvWXEudH+3s3mffKjCEYhSjTaPZtBwUaLRyNCKjorLpMh1RM8BiD/EftH+Xr3KPVs9db3VPsO/Yz7p/j99fX0HfUF9ov4APzpAG0Hig/dGE0hESdDKgcraSrKJ7oiWhseEoEJfQJl/Sn6fPeE9pv2KPhM+1T+9wA0AvsCEgSeBB0FiQV0BqgHzAiMCusM8Q/VEhkU5BQrFX0UkBNiEXMOgQsMCDIFmwM9AqoBZQI3A34E7wVMB8kIggk3CZYIjgfYBkMG1AVRBYsEVQRDBLAEGgUQBQMFkQSvBJQEtwO2Av0AH/8o/Yj6n/gA92z1R/RY88vycvLj8QvxAfBM773uJ+417Yfsw+wX7R/uGe7Q7QnuEu6E7kzuTO137CnrvOlh6Onmu+VZ5ArjOuJE4f3gE+Gh4Djg595E3fTaitiQ1jXWy9rz4XXpcu5L9BcAXw90G3AgzSMNKWYtGy5eKVMkrh+AGTUSFAwXCJcFAAPX/yL/RwDrAcIDJwTIA2sDIQOoA4wDiQLFAdcBfQN1BQcI+wrNDTERvhOYFXIX8BcmF0kVQBKGD7sM6QnjBqcDUQEyAGQACAG3Ac4CwwMnBYUGfAd6CAsJHglBCTwJwAl1CiUL2gtKDPAMDg5OD+YPNhD7D3cPGg+CDdML+AnFB0EGNQS4Aj4CXgEWAT4BWAESAtkCugOcBHMFMwaHBgYHdAebB2MHOQcQB9gG2QZ4BtcFFwUtBAcDbgF5/039UfuJ+NT1zvPu8evwAPDL7yHw5/Ch8XPyjfP/8x30vvOe8wv0/vOi8//yG/Nu88rz8/PW887zevPp8rTyT/Ka8XXwQ+8c7iXtNuzU6lbpZ+cY5eHiW+Cz3Zna19Zo05HPzcypyzjNINMf3Srpg/PH/KsJZxo/KdMweDLENCc49jdjMjsqGCNTHKEUMw6SCc8GvgRsAvQARAGRAnYD+gI6AYD/+v2+/FL7mvkR+DL34vdT+sH9LwKZBvUK+Q/9FNoZXB34HhUfBR7nGxIZKxVGEP8KIgbsATz/aP0Q/HD7avts/Cj+4v9DAUwCDgNnA9YD+gM0BEEESAS8BF8FdQY1CP4JXgsXDVIObw9AEOIPKA+0DS8MIgreB20FSQPGAXIAW/+S/nv+J//w/60AVgFqAl8DswMzBGgEXgRaBEwE8QPXA88DoQPJA7UDkwNgA1oDWAORAuIBPgEzANv+7PxP+6n52fcr9rz0gPPG8lvyNPJ28jrykPJE88fzQ/Q49I70I/V49Sz16vQQ9UD1BvV09NTzyPOb8yvztfLx8aPx3PBf7xzuz+yu63zqLugM5l/kE+Iv34rct9pd2ZzXbtdz2a7dC+ME6G7tlvQS/UUGcg4wFJIYUBzXH10iaSLsIDsfXR1RG9YYxxbJFdEUYxOFEoYSBBOnEugQxA7rDOQK+wjSBuwDaAGS/8H+pP6O/sH+d/85AQwD1AS0Bp4IWgpTC04MMA1HDZcMdwtlClgJFQg+B00GZwUsBYkF3AXEBbQF/gWmBv8G3QbyBvQG6gYXB9IGsAbVBQ8FwwQWBLUDVANjA4IDOQNJA60DBQTrA60DdQMaA14CQAFZAK7/Q//G/lH+KP5Z/oj+lv69/iD/uP+Z/43/rf/g/1AAbACDAE4ATgByALEA+wC7AF0Ay/9O/xb/cf5+/er8dPwu/NH7hvuH+5H7hvtT+4L7oftJ+936F/qD+Zr4gvfl9nH2Qfb39ev1cfbj9i73Pvd397j34vcN+Bf4KPhD+IH43fi5+KP4JvmV+Y75K/m++IX49/cP9+P13vQB9CfziPLU8a7x0vE/8sDyR/Me9NH0gfVv9kr3kfiL+fn5gvoT+zX7Nvvh+o76gPqV+p/62fp1++z7b/xY/db+mAACAugCtAPPBDwGhwcgCDoI5QjMCXQK7QpFCykM/AwZDfAMwww4DacNaw2qDBoMsQsFC3IKzgkxCZsIPgjvB6YHlwfMB/cH7wekBzUHyAYiBmgFlASPA2ECEwFwACUAiv8v///+Ef94/+n/bAANAXcB0wFZAt0CZQOGA3QDfQOMA48DPwO8AmYC9wFpARQBzACIAD0A+f/Z/xUAcgC0AA0BTgGYAfAB7gHwAT0CXgJbAlcCTALvAT8BVQCd/4//7P5W/tv9dv1r/Qf9yvyZ/Ev8KPzt+4n7PftJ+337m/ts+3j77fsd/E78SfxL/Kr8zPzD/NX86vws/Tr9Ef38/M78v/xg/NP7bvsK++j6yPrW+uf67PoJ+1H7dftr+5H7ivuf+877z/ub+3D7dPu9+zn8QfxQ/Hz83/wI/R/9TP0i/Qj92Pzh/Bn9NP1q/an9Rf7o/mH/7/9sAO8AKgEiAZUBmQG6AdABtAHSAb4BtQGGAUgBPAEPAcIAhQA+ALL/Dv+T/i/+z/14/ff8iPwg/PH73/tm+xD7E/tx+5b7t/s9/On8zf1u/j3/HwAkAS8CLQP8A6AEMQWABZcFewUjBbsEEgRWA9ICYQL7AawBhQFmAZ4B9QFNArICZgPlA2IE7QTXBKsEigRMBN4DSgPDAoQCRwIKArsBoAGcAYMBXwFbAYMBZwFEAQ8BugBlAC0ADgDV/5r/hf9Z/0b/WP+E/+L/FQBqAKQA7gBSAdUBFgIPAkoCjwKYAqoC+AITAyEDigMJBEcEbwRqBDkEOQQdBOkDyANpAwMDwgKPAkMC2gG9AXUBGgG8AG4AaABZADoA4f+c/zT/6f7r/sz+gf4u/uP9Cv4M/sz90v2x/b/9x/2g/Yn9dP1i/Vv9jf3A/eT9HP42/j/+Pf4o/hX+9/3a/cz97f0U/hr+Cf7e/Qr+VP4y/iL+NP5L/mb+g/6E/q3+3v4Z/3L/hP8GAFgAXQChAK8A6QD/APQAEgHvALoAoQCTAH4AYwAvABgABwALAC8AMgBIAGkAcwBTAEQAPwAmADcALAAKABwAMAASAAgAMgA7AB0A8P/r/8L/Yv8N/9/+9/7u/uf+xP7q/hD/+/4m/y3/nv8CADIATACBANEA4gAcAUoBcAGaAacBwQHYAZ0BtAHjAcEB6gELAisCMgIeAiICHQIvAvYBjwFsASoB7ACWAI8AmQCNAJAAjACYAHoAhQB6AFsAKgDs/8H/ev98/1z/Nf8k/wn/J/8k/yP/S/9T/4T/r/+y/+X/2/+h/4P/dP9j/0n/H/8E/xT/6f7X/vr+8v7D/rH+wf7U/hr/Uf+N/5H/r//g/+//DwADAOf/8f8RABYAIAAYAB0ACgDa/97//v/x/+f/0v/F/7T/jP+H/5X/yv8TADEAIAD8//3/VwB2AHIAeACJAJwAvQDaAMgA4wDtAO8A5QDJALEAqACqAJIAUwAnAEAARwBgAHgAoADtADIBXgFeAX0BiAFYAU8BZgEqAeUA0wDgAMUAlwB4AF8AJwD4/+n/+//q/8n/3P+t/67/1P/L/5z/ef+R/2P/O/89/xr/Fv/4/s7+9f4Q/wv/D/80/1r/bP9o/zT/Ef/P/n/+Y/4+/j7+ZP5m/mL+Rf44/j7+EP7q/eX9/v3t/Qv+Fv4t/nv+hP6u/s/+7/4S/w7/Hf8K/97+5v7o/p/+hf5f/iT+GP7h/e79Dv5E/mL+ev7Y/uD+7P7a/vf+Iv/j/sb+r/51/lr+b/56/pv+x/7P/vP+Af/e/rv+xf7U/ub+7/7k/u7++v4u/x3/GP8p/yT/Cv8S/x//IP8+//b+2/7v/tH+vP6x/qH+xv66/s7+HP/9/u3+5v7+/kf/ff/B/6P/sP/4/wwAPgBTAHUAcABYAD4AGgAVAA0AGAAOAAAA7//2/wAAAwArAC4ASQA6ADQAWwAaAAkAEAD9/+v/xP/b/w4A3P/O/8f/5/9CAFcAjQDFAAYBGAEaAUgBkgGcAXoBmgGXAX8BhwGAAUIB+QDFALAAoABzAE8ARQAnAAQA8P8dAP3/AAA1AB4AFwD7/zMAZwCFANEA/QAMATMBUgESAe8A9ADKAK4ArQBhAEYAUQBWAFIAagBhAFgAfwCIANcAIQFFAWYBiAGnAbgBtAG5Ae0BHwImAgsC+AH6AegBtgGLAVwBdQGrAeABBQLkAc8BogFqAT8B/QDxAAwB0ACbAKsAsQDAANgA1wDpAAcBHgEWAfcA/AACAfQAuACIAIcAbABAAAkA7v/L/4//rf+j/2j/RP9Q/2//Y/9T/z//NP8x/z//RP9F/0P/MP8e/y3/Rf9R/2v/n/+q/6H/pf97/0r/WP9d/3T/fv9+/4f/hv+1/9D/yP/F/6z/Z/87/zn/RP8n/xP/BP8M/zv/Of9Z/3H/hf+7/9z/6v/h/wEA+f/X/9r/5//L/4b/Wv9S/1r/Nf8+/2v/hv+D/2H/Qf85/13/K/8p/yH/DP8k/+3+B/8X//n+Bv8y/1D/Wf9T/03/bf+N/9D/zf+z/6n/l/+S/4T/jP9x/5X/1v///x4AIwBDADMAFQAkACcAGgDk/8L/oP+G/3f/m/+n/23/a/9z/3n/dv9k/2j/df+G/2r/gP+0/5//l/+V/3z/T/9l/3H/b/9w/13/Uv94/8D/6P/1/9z/4//i/+j//f8oAEQAQQBBADsAXwA9AB4AQwAiAA4AAQD7/x0AFwADAN7/z/+7/9T/vP+v/+j/3P/H/8f/4f/O//f/MQAvAEIAOwBIAB8A0v/P/8n/o/+b/4D/g/+l/5//t/+5/8P/xv+5/8H/tP+i/8L/z//E/+j/yf/M/93/4v8DAN7/0/+1/5T/iP9Y/2v/cf9n/5P/qP+4/7T/4//x//r/JwAlACMAFQAYACgAQABQAE8APwCKAJ0AewBhAE4AhgCzAMsAwwDeAM0ArAC0ANQA7QD5ABUBOwFXAT4BKwFKASYBCwEzASYBFwEhAfoA4gAMARQBGAECAdoAsQC0AMgAsQCVAJAAjQBzAJQAkQBqAHIAhwC0AKoAuQDeAMIA1ADiANMApgBgAD4AKgAKAO3/CAARAPb/9v/f/6f/nf+o/5j/lP+I/3H/Nv9M/2n/Xv+F/7D/7v/c/7D/wP/h//3/CQAIANr/wv/B/8r/y//F/4n/cf9//3H/Y/9R/0D/L/8W/+T+of6K/pz+lP6z/sv+6/70/vr+Fv/w/uD+4/64/o7+s/7a/ib/aP89/3v/9v/S/7j/xf+4/7D/sP++/7f/wP/m//X/+P/i/47/g/+P/3D/uP/u/wYA4/+f/7v/1P+z/5D/h//k/wYA3v/i/7b/if8J/93+vP8DACUAowDcAGIBpwGFATwBBAHGAIQAQwBxAG8A1f95/27/Vv+k/+D/NwCgALkAbAB4AKkALAGBAT8BkAFfASgB5QDFAMoAsADTAHAASwAdABwANQDG/53/s/+7/53/fv9a/y7/XP9e/yn/Kf8Q/z//hv9Z/y3/PP9b/2b/Sf8c/+r+pf61/ur+kv6w/sb+Av/Z/or+oP5h/lf+3/6W/+r/7v/n/5H/ev+j/7T/l/+y/+n/7P9HALIA2gDNALgA5gDLAIAAhwBNABMADAACAIEAfQBIAE8ATQA6ADQAaQBmAF0AaAAoAAwA7v8lAKoAxwDyACkBHgH8AOcAyADJAA4BJwE0AQkB5QAUAXIBZgE6AfMAHwEqAa8AxwAEAWkBcQEKARABzACqAFYA7P8JAEIAdQBFABgAWgB3AKEAxAAYATIB2AAhAVIBFQGkAHQATADq/9//9//J/6v/VABwAB0A+//t/0cAGgABAEEA0P+y/7D/ov/P/zAACwDx/9b/jP9d/xb/SP+Q/+b/wf+Q/4X/mP8UABIASAAAAHv/k/+w/5b/Y/9J//r+5P4j/0X/X/9Z/4//if+m/x8A7//v/0sADwCG/7H/p/+k/xYA9/8PAOP/3f9MAPT/kv+G/7v/m/+k/9H/sP/A/8z/uv9m/4j/3P+Z/5//sf+v/+L//P/e/9b/PAA9AIIBEgLz/7cAfgEuAX4A/P3H/fL+zgF1A0MEWgUGBJsE1AJLAisDdAKVAhQCqwHpANsAfAAnAPv/YP8v/zD/CP9r/nD+tP7k/nD/yP+g/uj+E/+k/pL/vP8HAOn/s/+YABgAZv/S/43/2P6V/0gAUwCaAAEAHQDM/yf/nP+f/6L/m/8m/wn/9v7b/+z/w/+z/2X/fv9p/yX/xv5t/qP+Sv8z/wv/Dv/k/iX/wv+h/1j/Bf84/1H/Ov+P/4T/m/8m/4D/Wv9R/7T/mv8WAFb/Ov+q/3f/gf/O/nD/iv+M/0H/G/9j/8L/AQCm/9D/gf96/1n/Tf8yAL7/tf/U/y7/9/6p/k7/RP8O/2b+fv7d/q3+3v4q//z/WP/z/u/+MP9b/8n/4v/Z/6P/8/8pAMv/BwDl/9j/4/8KAFMAsAClAJoAGwCLAOwAxQAgAAgAgQBgAEwAGQDs/x8AawA8AKb/vv+k/yf/W/+x/xj/yP02/i/+xv5Y/aX9bfvZ+8r2hfxPGzsjtRa5D5UN0gsfBhMAI/14/P/9x/5K/gr/Df/p/or9NvxY+3P6G/qZ+U/5vfiI+S76Bfqx+if7y/oY+5z7PftQ+rT6AvvL+tL6LftP/JT92P1e/U79Lf2N/Bn8w/qM+Uf5d/ru+uL5dfni+Tf6OPo5+jP6Hvr0+eb5v/mK+bb5APqf+in7Svvm+gX7Kvv/+sP69/oy+y/7OPua+3v7PfvP+gr7gvuh+6L7qPsE/GX8+Pw2/QL9JP08/dP9J/5q/nT+R/4j/jz+Of58/rL+Jf9I/6v//v/W/6z/lP+Q/6H/EP++/j//Lf83/43/qf8OAJgAdQCKAJAAtAApAcYAkgDNAFYA3P9ZANcAlAHSAa0BCALlAR0CMwKXAugCaQNoA+wCXQLLAUMBqQCxAL4A+QCdAa0CUgM1A+ECwgJHArwB8gHvAR8CCgIYApgCgQKPAgQCywH8AeEBmAGtAXoB+QADAbEAjADf/zz/c//z/jT/ef99/2z/bf8T/5/+l/6l/hn/gv/r/+j/WP8+/wj/yf7q/gz/uP6P/nD+Vf4C/1H/i/8o/9j+3v6J/hv+eP0x/Rj9N/0a/cD8o/y1/C38K/yT/DD9gP5C/zr/If/U/jf/yP+X/0MAdgDT/wcA+v/c/9r/3v8OAFAAmwAcAcQBkAHZARgCuQEnAoMCpAImAyID/QJMA8wDIQT5A9cDXQMbA+8CgALFAUcBWQEXAiYCNwJxAr8CmgPtA6AEtwSqBJsElQSxBLUE6QT7BHEEWgT1BGYFmwV8BbAF0wXOBYAF+gTYBLUEZQQ2BI8E/wRZBWsFqQQfBAIEqAOPAy4DRQIOAvABMgImAqcBvQHkASYC/gHKAe0BMQIPAtABNQIFAoUBXAFIARsBuQBrAFAADABJ/93+T/7H/bn9CP5p/lb+pP69/gL/Q/8s/4P/Ef/p/gr/If9l/5n/xv/v/ygAVABRAHYA8gAdARsBGAGRAOr/d/8X/zT/b/+Z/6j/rf/9/4oAbQAAAPH/uf9+/47/4f8cAEEAfgDjABEB4QCmAIwAngB8ACwAjwAPAeAAmwBnAEkANwBOACsAtf95/3P/qv////D/8v8gAD0AVwA6AFwAigA1AAcAAgBjAOYA4gAwAVwBlQG0AboB6AEHAvQBvAF0ASUBRQEwAWQB0AEfAogCjQI7AhQC7QGXAV4BPAFOAekB/AGkAewBTwKSAsIC+QIUA7sCowKWAjwCHAKjAoAD8gMlBCIE2QPSA+sDAwQWBA8E9APEA5IDyAPDA1gDyAIpAgoCAgIfAkwCTQJpArICCANzA+oDxANzA3UDcAMeA24C6QHwASECSgKGAv4CfgPBA7YDDwQkBOkDvwORA84D6wPiA5EDWgOGA7IDvgNtA2EDiwOXA5IDUwMnA3sDjQMcA6sCgwKbAv8CGwMNAwoDDwMKA7ICbwJDAkACRwIzAlACUQI/AggCFAItAiACDQLVAaIBagFwAXQBawGwAc8BBAJGAmsCWAIwAv0BzAHkAe8BsQHBAcABYQEKASIBJQHTAKEAfgBZACUAHgBMAB0A5/9ZAIcAvQDUAOEAGQEAAdkAqgBxADAA+P/V/+L/0v/Z/7r/h/+k/4L/Z/9v/27/X/9M/wD/qv5Y/j7+TP6h/uX+3v6T/kv+f/7J/u/+3P64/tb+L/9h/0X/sf5K/gf+kf1M/R79Wv2K/cL94P24/b790P3c/eT9xv2o/e79Qv5Q/vj9rv2y/Vv94/zE/Mn82/z+/Fv9nf2s/ZX9p/3K/a79lf2J/XT9NP0h/UP9Rf1Q/U39Wf06/W/9wP24/dj9q/3A/fT91v33/RX+Sv5j/ob+u/7W/gb/v/5y/lD+Ff7z/eH94f0+/o3+qP7S/s3+8/7l/rb+o/7a/ib/Y//G/7r/9v8fAPf//P8WAA8Ayv+p/47/jP98/9//JABQALcAqAC/ALwAnwCyAK8AkgBJAEsARAAtABMA3f8BADEAEwAIACEASQBvAFwAPQCJAL4AvgCqAF0AHAAmAD8AQgBAADEAUQBpAJUAswCPAGUAIQApAAoAFgAmAD4AfwCJAIgAkQCHAF0AQgCLAMEArAC8ALYAqwDJAKkAygCRAHYAwQC8AO0AIgFBARcBywDQAKsA0gD4ACIBIwERAR8BRgGJAWwBKAHsAO0AEQEBAeYAsgDZADgBcAGaAeUBTgKmAtsCGgMxAzwDZAM5A+sCtwLFAroCcgIyAigCEALRAYwBXgF1AXMBaAE3AQcB2AC2AHEAPwBmAEQASABgAD8ADQDb/+X/HgAiAD0AUQBUAEYAOwCGALAAqwCaAI0AfQBCACkALwAMAAMA3P+9/8n/DQA6AB4ALgAXAAQA5//6/wEA2//O////YQCFAJQAtACYAEwA+P+q/5//0//s/x4AUwAnAAwALAASAOr/0v+6/7f/3v/r/9j/pv99/5j/n/+2/5P/gP+v/6r/sv/B/6//hf9j/5H/vP+4/9H/pf+O/33/W/9d/2//j/+Z/6L/jv9t/4D/jP+m/5z/l/9s/y7/LP8t/z7/Uv95/6P/iv+a/6j/Z/8p/xj/BP///tz+t/6W/nj+pP7M/qX+i/7b/t3+tv6g/mT+fP6M/mb+Pv4i/in+Kf4c/jD+MP44/mj+if6O/p/+u/6q/pz+kv55/mf+If4P/gL+wf2u/dj9yf2w/cH94/31/d/9wf21/dr9y/21/bL9c/07/R79Wf1l/X39hP1c/Vb9Of1g/Vv9dv2U/bj98v0P/h/+/P0J/lD+W/40/mX+Zv5V/nL+fP7J/r3+tv7W/sH+0/6q/on+l/7I/uD+z/7k/vv+JP8J//r++P77/iL/Gv8k/xP/H/8o/xH/H//t/sP+s/6N/m7+ev6u/q3+n/7C/sr+tv7w/tv+vP7d/ub+Bv8o/xv/D/8Z/+H+/v4b/w//7/6//r/+r/6n/sn+1v7q/h3/QP9Q/4//sv+E/3P/Xf9z/3T/Z/+K/6D/e/9y/4r/dv+i/5r/r/+3/4f/lP+C/2v/af93/2r/Zf+J/97/DgAMAA4A9v8NABMABgAxAFMASgA1ABkALgBDAFoAfwBKAO//uf+k/7v/rf/N//j/7P8SAOX/0P/W/+n/DQAUAEkALQAnABoAMgBUAHIAfQBhAHEAhQDGAPEA2gCdAJUAvgCbAIYAsgCxAKwA4QC3AJEAlwAxAA0AQABUAF4ARQBDAGMAYQBeAEYANwAeAAkACQDd/+n/9/8DAOn/vv/G/6z/jf9b/0X/QP8O//T+A/8Q/wv/E/8x/13/VP9E/3b/kP+C/13/WP9E/xH/8/7k/q/+o/6v/o7+sP64/pj+ef5r/pv+nf5u/k/+K/7a/b39pf1g/Tj9Ff0y/Vr9Uv0s/U79g/1R/R39Jv1P/YP9k/2S/Yv9eP2S/ZP9rv2s/Zv9fv1s/ZH9nv3P/bL9nv3H/dX93P30/e39Ev4N/vX9Kv4a/iL+Fv4J/ir+Nf5u/lD+Zv62/sT+9v4Q/yL/Nf85/zv/Jf8O/xD/GP8O/xf/+v4A/yb/IP9P/1j/Sv9M/1D/cv9t/4n/sf+0/7z/qf+r/73/s/+l/3P/jv+U/43/ov+4/83/1//l/7z/5f8KAA8AIAAsAE4AbgB1AGcAbgBqAGkAXgBcAFYAbgB7AFAAYQC1AKQAxAAaAegAxACLAJIAqQCeAKsAvwDYAMoAzwCmAIUAmgB3AGIAkQB5AHsAjACGAIcAjwCCAHUAbgB1AHwAgwBvAE4AZQCLAKYAjQCZANQALAEyASkBQwFZAU8BDgEDAdEAxwD7ACcBTQFTAVYBMgESAeQA0ADtAPAA4AC3AMwArwCkAKsAmgDLANQA6AD1AOEA6QDfAN4A2QC+ALMAwQCPAFEAJwAgABMA7/8FAOv/v//g/wIACQAcAAAAAAAgAA0AAgACAP7/BwD2/+n/BADs//P/EAA3AEwARQAtAAAA8/8LABQA9/8UABQA//8NADQAPwA6ABgAEQBKAC0AMwAVAO3/2P/O//H/7f/w//n/+f8AAO//AgAfAD0ATQArAAcAJQAqACIAIgAeADIAHgAZAC0AWQBAABgALAAlACwAMwApADQATgCBAHIAVgBxAHYAXgBoAEgAGgACAPX/3/8FACcAHwDz/7v/q/+c/7j/xv/e/9b/t//J/7T/oP+U/5D/of+t/w==\" type=\"audio/wav\" />\n",
       "                    Your browser does not support the audio element.\n",
       "                </audio>\n",
       "              "
      ],
      "text/plain": [
       "<IPython.lib.display.Audio object>"
      ]
     },
     "execution_count": 36,
     "metadata": {},
     "output_type": "execute_result"
    }
   ],
   "source": [
    "from IPython.display import Audio\n",
    "Audio(speech, rate=16000)"
   ]
  },
  {
   "cell_type": "code",
   "execution_count": null,
   "id": "f9166f46-b3a2-4117-9303-2be3097c04d5",
   "metadata": {},
   "outputs": [],
   "source": []
  }
 ],
 "metadata": {
  "kernelspec": {
   "display_name": "Python 3 (ipykernel)",
   "language": "python",
   "name": "python3"
  },
  "language_info": {
   "codemirror_mode": {
    "name": "ipython",
    "version": 3
   },
   "file_extension": ".py",
   "mimetype": "text/x-python",
   "name": "python",
   "nbconvert_exporter": "python",
   "pygments_lexer": "ipython3",
   "version": "3.10.13"
  }
 },
 "nbformat": 4,
 "nbformat_minor": 5
}
